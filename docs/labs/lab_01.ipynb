{
  "cells": [
    {
      "cell_type": "markdown",
      "id": "e2696553",
      "metadata": {
        "id": "e2696553"
      },
      "source": [
        "<a href=\"https://colab.research.google.com/github/fralfaro/MAT281_2023/blob/main/docs/labs/lab_01.ipynb\" target=\"_parent\"><img src=\"https://colab.research.google.com/assets/colab-badge.svg\" alt=\"Open In Colab\"/></a>\n",
        "\n",
        "\n",
        "# MAT281 - Laboratorio N°01\n"
      ]
    },
    {
      "cell_type": "markdown",
      "id": "a869ace0",
      "metadata": {
        "id": "a869ace0"
      },
      "source": [
        "## Problema 01\n",
        "\n",
        "En los siglos XVII y XVIII, James Gregory y Gottfried Leibniz descubrieron una serie infinita que sirve para calcular $\\pi$:\n",
        "\n",
        "$$\\displaystyle \\pi = 4 \\sum_{k=1}^{\\infty}\\dfrac{(-1)^{k+1}}{2k-1} = 4(1-\\dfrac{1}{3}+\\dfrac{1}{5}-\\dfrac{1}{7} + ...) $$\n",
        "\n",
        "Desarolle un programa para estimar el valor de $\\pi$ ocupando el método de Leibniz, donde la entrada del programa debe ser un número entero $n$ que indique cuántos términos de la suma se utilizará.\n",
        "\n",
        "\n",
        "* **Ejemplo**:\n",
        "    * *calcular_pi(3)* = 3.466666666666667\n",
        "    * *calcular_pi(1000)* = 3.140592653839794"
      ]
    },
    {
      "cell_type": "code",
      "execution_count": 18,
      "id": "dd54e855",
      "metadata": {
        "colab": {
          "base_uri": "https://localhost:8080/"
        },
        "id": "dd54e855",
        "outputId": "c4917672-4d0a-4e1b-f028-dc7808d12f73"
      },
      "outputs": [
        {
          "name": "stdout",
          "output_type": "stream",
          "text": [
            "1000\n"
          ]
        },
        {
          "output_type": "execute_result",
          "data": {
            "text/plain": [
              "3.140592653839794"
            ]
          },
          "metadata": {},
          "execution_count": 18
        }
      ],
      "source": [
        "def calcular_pi(n):\n",
        "    sum = 0\n",
        "    for i in range(1,n+1):\n",
        "        sum += ((-1)**(i+1))/(2*i-1)\n",
        "    return 4*sum\n",
        "\n",
        "\n",
        "cantidad = input()\n",
        "calcular_pi(int(cantidad))"
      ]
    },
    {
      "cell_type": "markdown",
      "id": "c26be634",
      "metadata": {
        "id": "c26be634"
      },
      "source": [
        "## Problema 02\n",
        "\n",
        "Euler realizó varios aportes en relación a $e$, pero no fue hasta 1748 cuando publicó su **Introductio in analysin infinitorum** que dio un tratamiento definitivo a las ideas sobre $e$. Allí mostró que:\n",
        "\n",
        "\n",
        "En los siglos XVII y XVIII, James Gregory y Gottfried Leibniz descubrieron una serie infinita que sirve para calcular π:\n",
        "\n",
        "$$\\displaystyle e = \\sum_{k=0}^{\\infty}\\dfrac{1}{k!} = 1+\\dfrac{1}{2!}+\\dfrac{1}{3!}+\\dfrac{1}{4!} + ... $$\n",
        "\n",
        "Desarolle un programa para estimar el valor de $e$ ocupando el método de Euler, donde la entrada del programa debe ser un número entero $n$ que indique cuántos términos de la suma se utilizará.\n",
        "\n",
        "Para esto:\n",
        "\n",
        "* a) Defina la función `factorial`, donde la entrada sea un número natural  $n$ y la salida sea el factorial de dicho número.\n",
        "    * **Ejemplo**: *factorial(3)* =3, *factorial(5)* = 120\n",
        "    \n",
        "    \n",
        "* b) Ocupe la función `factorial` dentro de la función `calcular_e`.     \n",
        "    * **Ejemplo**: *calcular_e(3)* = 2.6666666666666665, *calcular_e(1000)* = 2.7182818284590455"
      ]
    },
    {
      "cell_type": "code",
      "execution_count": 29,
      "id": "706d4c0a",
      "metadata": {
        "colab": {
          "base_uri": "https://localhost:8080/"
        },
        "id": "706d4c0a",
        "outputId": "af5ac27a-15a5-4e83-f0bb-13a083daa4fd"
      },
      "outputs": [
        {
          "output_type": "stream",
          "name": "stdout",
          "text": [
            "30\n",
            "2.7182818284590455\n"
          ]
        }
      ],
      "source": [
        "def factorial(n):\n",
        "    if n == 0:\n",
        "      return 1\n",
        "    return factorial(n-1)*n\n",
        "\n",
        "def calcular_e(num):\n",
        "    sum = 0\n",
        "    for i in range(num+1):\n",
        "      sum += 1/factorial(i)\n",
        "    return sum\n",
        "\n",
        "numero = input()\n",
        "print(calcular_e(int(numero)))"
      ]
    },
    {
      "cell_type": "markdown",
      "id": "9707be93",
      "metadata": {
        "id": "9707be93"
      },
      "source": [
        "## Problema 03\n",
        "\n",
        "Sea $\\sigma(n)$ definido como la suma de los divisores propios de $n$ (números menores que n que se dividen en $n$).\n",
        "\n",
        "Los [números amigos](https://en.wikipedia.org/wiki/Amicable_numbers) son  enteros positivos $n_1$ y $n_2$ tales que la suma de los divisores propios de uno es igual al otro número y viceversa, es decir, $\\sigma(n_1)=\\sigma(n_2)$ y $\\sigma(n_2)=\\sigma(n_1)$.\n",
        "\n",
        "\n",
        "Por ejemplo, los números 220 y 284 son números amigos.\n",
        "* los divisores propios de 220 son 1, 2, 4, 5, 10, 11, 20, 22, 44, 55 y 110; por lo tanto $\\sigma(220) = 284$.\n",
        "* los divisores propios de 284 son 1, 2, 4, 71 y 142; entonces $\\sigma(284) = 220$.\n",
        "\n",
        "\n",
        "Implemente una función llamada `amigos` cuyo input sean dos números naturales $n_1$ y $n_2$, cuyo output sea verifique si los números son amigos o no.\n",
        "\n",
        "Para esto:\n",
        "\n",
        "* a) Defina la función `divisores_propios`, donde la entrada sea un número natural $n$ y la salida sea una lista con los divisores propios de dicho número.\n",
        "    * **Ejemplo**: *divisores_propios(220)* = [1, 2, 4, 5, 10, 11, 20, 22, 44, 55 y 110], *divisores_propios(284)* = [1, 2, 4, 71 y 142]\n",
        "    \n",
        "    \n",
        "* b) Ocupe la función `divisores_propios` dentro de la función `amigos`.\n",
        "\n",
        "    * **Ejemplo**: *amigos(220,284)* = True, *amigos(6,5)* = False"
      ]
    },
    {
      "cell_type": "code",
      "execution_count": 79,
      "id": "e695ea21",
      "metadata": {
        "colab": {
          "base_uri": "https://localhost:8080/"
        },
        "id": "e695ea21",
        "outputId": "d10b0c29-9cac-47ca-cc68-627da9cc3429"
      },
      "outputs": [
        {
          "output_type": "stream",
          "name": "stdout",
          "text": [
            "2620\n",
            "2924\n",
            "True\n"
          ]
        }
      ],
      "source": [
        "def divisores_propios(n):\n",
        "  lista = [1]\n",
        "  for i in range(2,n):\n",
        "    if n%i == 0:\n",
        "      lista.append(i)\n",
        "  return lista\n",
        "\n",
        "def amigos(num1,num2):\n",
        "  sigmanum1 = sum(divisores_propios(num1))\n",
        "  sigmanum2 = sum(divisores_propios(num2))\n",
        "  if sigmanum1 == num2 and sigmanum2 == num1:\n",
        "    return True\n",
        "  return False\n",
        "\n",
        "num1 = input()\n",
        "num2 = input()\n",
        "print(amigos(int(num1),int(num2)))"
      ]
    },
    {
      "cell_type": "markdown",
      "id": "cf93a039",
      "metadata": {
        "id": "cf93a039"
      },
      "source": [
        "## Problema 04\n",
        "\n",
        "La [conjetura de Collatz](https://en.wikipedia.org/wiki/Collatz_conjecture), conocida también como conjetura $3n+1$ o conjetura de Ulam (entre otros nombres), fue enunciada por el matemático Lothar Collatz en 1937, y a la fecha no se ha resuelto.\n",
        "\n",
        "Sea la siguiente operación, aplicable a cualquier número entero positivo:\n",
        "* Si el número es par, se divide entre 2.\n",
        "* Si el número es impar, se multiplica por 3 y se suma 1.\n",
        "\n",
        "La conjetura dice que siempre alcanzaremos el 1 (y por tanto el ciclo 4, 2, 1) para cualquier número con el que comencemos.\n",
        "\n",
        "Implemente una función llamada `collatz` cuyo input sea un número natural positivo $N$ y como output devulva la secuencia de números hasta llegar a 1.\n",
        "\n",
        "* **Ejemplo**: *collatz(9)* = [9, 28, 14, 7, 22, 11, 34, 17, 52, 26, 13, 40, 20, 10, 5, 16, 8, 4, 2, 1]"
      ]
    },
    {
      "cell_type": "code",
      "execution_count": 66,
      "id": "10501a00",
      "metadata": {
        "colab": {
          "base_uri": "https://localhost:8080/"
        },
        "id": "10501a00",
        "outputId": "537bd393-dc22-40a0-bc79-00f0b1de9c54"
      },
      "outputs": [
        {
          "output_type": "stream",
          "name": "stdout",
          "text": [
            "45\n",
            "[45, 136, 68, 34, 17, 52, 26, 13, 40, 20, 10, 5, 16, 8, 4, 2, 1]\n"
          ]
        }
      ],
      "source": [
        "def collatz(n):\n",
        "\n",
        "  lista = [n]\n",
        "  num = n\n",
        "  i = 0\n",
        "  while num != 1:\n",
        "\n",
        "    if num%2 == 0:\n",
        "      num = num/2\n",
        "    else:\n",
        "      num = 3*num + 1\n",
        "    lista.append(int(num))\n",
        "  return lista\n",
        "\n",
        "numero = input()\n",
        "print(collatz(int(numero)))"
      ]
    },
    {
      "cell_type": "markdown",
      "id": "d15af4eb",
      "metadata": {
        "id": "d15af4eb"
      },
      "source": [
        "## Problema 05\n",
        "La [conjetura de Goldbach](https://en.wikipedia.org/wiki/Goldbach%27s_conjecture) es uno de los problemas abiertos más antiguos en matemáticas. Concretamente, G.H. Hardy, en 1921, en su famoso discurso pronunciado en la Sociedad Matemática de Copenhague, comentó que probablemente la conjetura de Goldbach no es solo uno de los problemas no resueltos más difíciles de la teoría de números, sino de todas las matemáticas. Su enunciado es el siguiente:\n",
        "\n",
        "> Todo número par mayor que 2 puede escribirse como suma de dos números primos - Christian Goldbach (1742)\n",
        "\n",
        "Implemente una función llamada `goldbach` cuyo input sea un número natural positivo $n$ y como output devuelva la suma de dos primos ($n_1$ y $n_2$) tal que: $n_1+n_2=n$.\n",
        "\n",
        "Para esto:\n",
        "\n",
        "* a) Defina la función `es_primo`, donde la entrada sea un número natural $n$ y la salida sea **True** si el número es primo y **False** en otro caso.\n",
        "    * **Ejemplo**: *es_primo(3)* = True, *es_primo(4)* = False\n",
        "    \n",
        "    \n",
        "* b)  Defina la función `lista_de_primos`, donde la entrada sea un número natural par $n$ mayor que dos y la salida sea una lista con todos los número primos entre 2 y $n$.\n",
        "    * **Ejemplo**: *lista_de_primos(4)* = [2,3], *lista_de_primos(6)* = [2,3,5], *lista_de_primos(8)* = [2,3,5,7]\n",
        "\n",
        "\n",
        "* c) Ocupe la función `lista_de_primos` dentro de la función `goldbash`.\n",
        " * **Ejemplo**: goldbash(4) = (2,2), goldbash(6) = (3,3) , goldbash(8) = (3,5)"
      ]
    },
    {
      "cell_type": "code",
      "execution_count": 65,
      "id": "cccb4ae0",
      "metadata": {
        "colab": {
          "base_uri": "https://localhost:8080/"
        },
        "id": "cccb4ae0",
        "outputId": "7dceff0a-8df8-41b2-de2d-842c28c22e01"
      },
      "outputs": [
        {
          "output_type": "stream",
          "name": "stdout",
          "text": [
            "100\n",
            "[3, 97]\n"
          ]
        }
      ],
      "source": [
        "def es_primo(n):\n",
        "  if n == 1 or n == 2 or n ==3:\n",
        "    return True\n",
        "  for i in range(2,(int(n/2)+1)):\n",
        "    if n%i == 0:\n",
        "      return False\n",
        "  return True\n",
        "\n",
        "def lista_de_primos(n):\n",
        "  lista = [2]\n",
        "  for i in range(3,n+1):\n",
        "    if es_primo(i):\n",
        "      lista.append(int(i))\n",
        "  return lista\n",
        "\n",
        "def goldbash(n):\n",
        "  lista = lista_de_primos(n)\n",
        "  for i in lista:\n",
        "    for j in lista:\n",
        "      if i + j == n:\n",
        "        return [i, j]\n",
        "\n",
        "numero = input()\n",
        "print(goldbash(int(numero)))"
      ]
    }
  ],
  "metadata": {
    "kernelspec": {
      "display_name": "Python 3 (ipykernel)",
      "language": "python",
      "name": "python3"
    },
    "language_info": {
      "codemirror_mode": {
        "name": "ipython",
        "version": 3
      },
      "file_extension": ".py",
      "mimetype": "text/x-python",
      "name": "python",
      "nbconvert_exporter": "python",
      "pygments_lexer": "ipython3",
      "version": "3.8.10"
    },
    "colab": {
      "provenance": []
    }
  },
  "nbformat": 4,
  "nbformat_minor": 5
}